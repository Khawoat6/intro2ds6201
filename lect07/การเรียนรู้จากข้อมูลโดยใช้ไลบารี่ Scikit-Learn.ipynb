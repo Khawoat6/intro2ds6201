{
 "cells": [
  {
   "cell_type": "markdown",
   "metadata": {},
   "source": [
    "## วัตถุประสงค์การเรียนรู้\n",
    "* ศึกษาวิธีการเตรียมข้อมูลสำหรับโมเดลการเรียนรู้แบบมีผู้สอนแบบต่างๆ\n",
    "* ศึกษาวิธีการปรับค่า hyperparameters ต่างๆ ของโมเดลโดยใช้วิธีการค้นหาแบบกริด (grid search)\n",
    "* ศึกษาวิธีการสกัดฟีเจอร์ที่สำคัญจากโมเดลที่ปรับแต่งแล้ว\n",
    "* ศึกษาวิธีการประเมินประสิทธิภาพของโมเดลการจำแนกประเภท (classification) และ โมเดลการทำนายค่า (regression model)\n",
    "\n",
    "ในบทนี้ เราจะศึกษาวิธีการทำ Machine Learning โดยใช้ไลบารี่ Scikit-Learn (https://scikit-learn.org/) ซึ่งเป็นไลบารี่รหัสเปิดที่ประกอบด้วยอัลกอริทึมการเรียนรู้เครื่องจักรประเภทต่างๆ ทั้งการเรียนรู้แบบมีผู้สอน และการเรียนรู้แบบไม่มีผู้สอน โดยเราจะใช้ไลบารี่ scikit-learn สำหรับสร้างโมเดลต่างๆ ดังนี้คือ \n",
    "* linear regression\n",
    "* logistic regression\n",
    "* support vector machines (SVMs)\n",
    "* decision trees\n",
    "* random forests"
   ]
  },
  {
   "cell_type": "markdown",
   "metadata": {},
   "source": [
    "## Linear Regression\n",
    "\n",
    "ในการทำนายค่าด้วยวิธี Regression ค่าของตัวแปรตาม (dependent variable) หนึ่งตัวจะถูกทำนายจากค่าของตัวแปรต้น (independent variables) หลายๆ ตัว เราสามารถใช้ Regression สำหรับการทำนายค่า ดังเช่น\n",
    "* การทำนายเปอร์เซ็นต์ที่ทีมฟุตบอลลิเวอร์พูลจะชนะ เมื่อกำหนดสถิติการเล่นของทีมลิเวอร์พูลและทีมคู่แข่ง\n",
    "* การทำนายอัตราเสี่ยงของการเกิดหัวใจวาย เมื่อทราบประวัติสุขภาพของบุคคลในครอบครัวและค่าที่วัดได้ทางกายภาพและสรีรวิทยาต่างๆ \n",
    "* โอกาสที่หิมะจะตก เมื่อกำหนดผลการวัดค่าทางภูมิอากาศต่างๆ\n",
    "\n",
    "linear regression และ logistic regression เป็นที่นิยมใช้เนื่องมาจากความง่าย ความโปร่งใส (transparency) ความสามารถในการตีความผลลัพธ์ที่ได้จากโมเดล (interpretability) และความสามารถในการนำไปใช้กับค่าอินพุทที่ไม่ได้อยู่ในชุดข้อมูลฝึกฝน (extrapolation or generalization) \n",
    "\n",
    "ผลลัพธ์ของ linear regression คือเส้นตรงที่ลากผ่านชุดข้อมูลที่ทำให้ค่าของผลต่างระหว่างค่าของจุดข้อมูล (observations) กับค่าของฟังก์ชันเส้นตรง (predicted values) มีค่าน้อยที่สุด \n",
    "\n",
    "สมมติฐานของ linear regression คือ ความสัมพันธ์ระหว่างฟีเจอร์และตัวแปรตาม สอดคล้องกับสมการเส้นตรง ซึ่งนิยามโดยค่าความชันและจุดตัด (slope and intercept) ในรูปแบบ $y = \\alpha + \\beta x$ เมื่อ $\\alpha$ คือค่าจุดตัด (ค่า $y$ เมื่อ $x=0$) และ $\\beta$ คือค่าความชัน ส่วน $x$ คือตัวแปรต้น (independent variables) \n",
    "\n",
    "ต่อไปเราจะแสดงวิธีการทำ linear regression ทั้งแบบ simple linear regression และ multiple linear regression"
   ]
  },
  {
   "cell_type": "markdown",
   "metadata": {},
   "source": [
    "### เตรียมข้อมูลสำหรับ Linear Regression Model\n",
    "\n",
    "1. download ข้อมูลอากาศในเมืองๆ หนึ่งของประเทศฮังการี่ ระหว่าง April 1, 2006 ถึง September 9, 2016 "
   ]
  },
  {
   "cell_type": "code",
   "execution_count": 4,
   "metadata": {},
   "outputs": [
    {
     "name": "stdout",
     "output_type": "stream",
     "text": [
      "--2019-09-20 11:21:23--  https://raw.githubusercontent.com/TrainingByPackt/Data-Science-with-Python/master/Chapter03/weather.csv\n",
      "Resolving raw.githubusercontent.com... 151.101.8.133\n",
      "Connecting to raw.githubusercontent.com|151.101.8.133|:443... connected.\n",
      "HTTP request sent, awaiting response... 200 OK\n",
      "Length: 495176 (484K) [text/plain]\n",
      "Saving to: ‘weather.csv.1’\n",
      "\n",
      "weather.csv.1       100%[===================>] 483.57K  1.61MB/s    in 0.3s    \n",
      "\n",
      "2019-09-20 11:21:24 (1.61 MB/s) - ‘weather.csv.1’ saved [495176/495176]\n",
      "\n"
     ]
    }
   ],
   "source": [
    "!wget https://raw.githubusercontent.com/TrainingByPackt/Data-Science-with-Python/master/Chapter03/weather.csv"
   ]
  },
  {
   "cell_type": "markdown",
   "metadata": {},
   "source": [
    "ข้อมูลดังกล่าวประกอบด้วย ผลการสังเกต หรือ จุดข้อมูลจำนวน 10,000 เรคอร์ด แต่ละจุดข้อมูลมีค่าฟีเจอร์ 8 ค่าดังนี้คือ\n",
    "* Temperature_c: อุณหภูมิ หน่วยเป็นองศาเซลเซียส\n",
    "* Humidity: สัดส่วนของความชื้น\n",
    "* Wind_Speed_kmh: ความเร็วลมหน่วยเป็น กม. ต่อ ชม. (kilometers per hour)\n",
    "* Wind_Bearing_Degrees: ทิศทางลมหน่วยเป็นดีกรี ในทิศทางตามเข็มนาฬิกาจากทิศเหนือ\n",
    "* Visibility_km: ความสามารถในการมองเห็นหน่วยเป็น กิโลเมตร\n",
    "* Pressure_millibars: ความดันอากาศวัดในหน่วย มิลลิบาร์\n",
    "* Rain: มีค่าเป็น 1 หากฝนตก และมีค่าเป็น 0 หากหิมะตก"
   ]
  },
  {
   "cell_type": "markdown",
   "metadata": {},
   "source": [
    "2. ใช้ไลบารี่ pandas นำเข้าข้อมูลจากไฟล์ `weather.csv`"
   ]
  },
  {
   "cell_type": "code",
   "execution_count": 8,
   "metadata": {},
   "outputs": [],
   "source": [
    "import pandas as pd\n",
    "\n",
    "df = pd.read_csv('weather.csv')"
   ]
  },
  {
   "cell_type": "markdown",
   "metadata": {},
   "source": [
    "3. ตรวจสอบข้อมูลโดยใช้ `df.info()` และ `df.head(5)`"
   ]
  },
  {
   "cell_type": "code",
   "execution_count": 10,
   "metadata": {},
   "outputs": [
    {
     "name": "stdout",
     "output_type": "stream",
     "text": [
      "<class 'pandas.core.frame.DataFrame'>\n",
      "RangeIndex: 10000 entries, 0 to 9999\n",
      "Data columns (total 8 columns):\n",
      "Temperature_c           10000 non-null float64\n",
      "Humidity                10000 non-null float64\n",
      "Wind_Speed_kmh          10000 non-null float64\n",
      "Wind_Bearing_degrees    10000 non-null int64\n",
      "Visibility_km           10000 non-null float64\n",
      "Pressure_millibars      10000 non-null float64\n",
      "Rain                    10000 non-null int64\n",
      "Description             10000 non-null object\n",
      "dtypes: float64(5), int64(2), object(1)\n",
      "memory usage: 625.1+ KB\n"
     ]
    }
   ],
   "source": [
    "df.info()"
   ]
  },
  {
   "cell_type": "code",
   "execution_count": 11,
   "metadata": {},
   "outputs": [
    {
     "data": {
      "text/html": [
       "<div>\n",
       "<style scoped>\n",
       "    .dataframe tbody tr th:only-of-type {\n",
       "        vertical-align: middle;\n",
       "    }\n",
       "\n",
       "    .dataframe tbody tr th {\n",
       "        vertical-align: top;\n",
       "    }\n",
       "\n",
       "    .dataframe thead th {\n",
       "        text-align: right;\n",
       "    }\n",
       "</style>\n",
       "<table border=\"1\" class=\"dataframe\">\n",
       "  <thead>\n",
       "    <tr style=\"text-align: right;\">\n",
       "      <th></th>\n",
       "      <th>Temperature_c</th>\n",
       "      <th>Humidity</th>\n",
       "      <th>Wind_Speed_kmh</th>\n",
       "      <th>Wind_Bearing_degrees</th>\n",
       "      <th>Visibility_km</th>\n",
       "      <th>Pressure_millibars</th>\n",
       "      <th>Rain</th>\n",
       "      <th>Description</th>\n",
       "    </tr>\n",
       "  </thead>\n",
       "  <tbody>\n",
       "    <tr>\n",
       "      <th>0</th>\n",
       "      <td>-0.555556</td>\n",
       "      <td>0.92</td>\n",
       "      <td>11.2700</td>\n",
       "      <td>130</td>\n",
       "      <td>8.0500</td>\n",
       "      <td>1021.60</td>\n",
       "      <td>0</td>\n",
       "      <td>Cold</td>\n",
       "    </tr>\n",
       "    <tr>\n",
       "      <th>1</th>\n",
       "      <td>21.111111</td>\n",
       "      <td>0.73</td>\n",
       "      <td>20.9300</td>\n",
       "      <td>330</td>\n",
       "      <td>16.1000</td>\n",
       "      <td>1017.00</td>\n",
       "      <td>1</td>\n",
       "      <td>Warm</td>\n",
       "    </tr>\n",
       "    <tr>\n",
       "      <th>2</th>\n",
       "      <td>16.600000</td>\n",
       "      <td>0.97</td>\n",
       "      <td>5.9731</td>\n",
       "      <td>193</td>\n",
       "      <td>14.9086</td>\n",
       "      <td>1013.99</td>\n",
       "      <td>1</td>\n",
       "      <td>Normal</td>\n",
       "    </tr>\n",
       "    <tr>\n",
       "      <th>3</th>\n",
       "      <td>1.600000</td>\n",
       "      <td>0.82</td>\n",
       "      <td>3.2200</td>\n",
       "      <td>300</td>\n",
       "      <td>16.1000</td>\n",
       "      <td>1031.59</td>\n",
       "      <td>1</td>\n",
       "      <td>Cold</td>\n",
       "    </tr>\n",
       "    <tr>\n",
       "      <th>4</th>\n",
       "      <td>2.194444</td>\n",
       "      <td>0.60</td>\n",
       "      <td>10.8836</td>\n",
       "      <td>116</td>\n",
       "      <td>9.9820</td>\n",
       "      <td>1020.88</td>\n",
       "      <td>1</td>\n",
       "      <td>Cold</td>\n",
       "    </tr>\n",
       "  </tbody>\n",
       "</table>\n",
       "</div>"
      ],
      "text/plain": [
       "   Temperature_c  Humidity  Wind_Speed_kmh  Wind_Bearing_degrees  \\\n",
       "0      -0.555556      0.92         11.2700                   130   \n",
       "1      21.111111      0.73         20.9300                   330   \n",
       "2      16.600000      0.97          5.9731                   193   \n",
       "3       1.600000      0.82          3.2200                   300   \n",
       "4       2.194444      0.60         10.8836                   116   \n",
       "\n",
       "   Visibility_km  Pressure_millibars  Rain Description  \n",
       "0         8.0500             1021.60     0        Cold  \n",
       "1        16.1000             1017.00     1        Warm  \n",
       "2        14.9086             1013.99     1      Normal  \n",
       "3        16.1000             1031.59     1        Cold  \n",
       "4         9.9820             1020.88     1        Cold  "
      ]
     },
     "execution_count": 11,
     "metadata": {},
     "output_type": "execute_result"
    }
   ],
   "source": [
    "df.head(5)"
   ]
  },
  {
   "cell_type": "markdown",
   "metadata": {},
   "source": [
    "4. จะเห็นได้ว่าคอลัมน์ `Description` เป็นตัวแปรแบบ Categorical เราสามารถตรวจสอบจำนวนประเภททั้งหมดในคอลัมน์ `Description` ของ dataframe นี้ได้ดังนี้"
   ]
  },
  {
   "cell_type": "code",
   "execution_count": 20,
   "metadata": {},
   "outputs": [
    {
     "name": "stdout",
     "output_type": "stream",
     "text": [
      "There are 3 levels in the Description column\n"
     ]
    }
   ],
   "source": [
    "levels = len(pd.value_counts(df['Description']))\n",
    "\n",
    "print('There are {} levels in the Description column'.format(levels))"
   ]
  },
  {
   "cell_type": "markdown",
   "metadata": {},
   "source": [
    "5. แปลง Categorical value attribute ไปเป็น indicator variables"
   ]
  },
  {
   "cell_type": "code",
   "execution_count": 23,
   "metadata": {},
   "outputs": [
    {
     "name": "stdout",
     "output_type": "stream",
     "text": [
      "<class 'pandas.core.frame.DataFrame'>\n",
      "RangeIndex: 10000 entries, 0 to 9999\n",
      "Data columns (total 9 columns):\n",
      "Temperature_c           10000 non-null float64\n",
      "Humidity                10000 non-null float64\n",
      "Wind_Speed_kmh          10000 non-null float64\n",
      "Wind_Bearing_degrees    10000 non-null int64\n",
      "Visibility_km           10000 non-null float64\n",
      "Pressure_millibars      10000 non-null float64\n",
      "Rain                    10000 non-null int64\n",
      "Description_Normal      10000 non-null uint8\n",
      "Description_Warm        10000 non-null uint8\n",
      "dtypes: float64(5), int64(2), uint8(2)\n",
      "memory usage: 566.5 KB\n"
     ]
    }
   ],
   "source": [
    "df_dummies = pd.get_dummies(df, drop_first=True)\n",
    "\n",
    "df_dummies.info()"
   ]
  },
  {
   "cell_type": "markdown",
   "metadata": {},
   "source": [
    "6. สลับตำแหน่งของข้อมูลเพื่อป้องกันผลกระทบจากลำดับข้อมูล โดยใช้คำสั่ง `shuffle`"
   ]
  },
  {
   "cell_type": "code",
   "execution_count": 25,
   "metadata": {},
   "outputs": [],
   "source": [
    "from sklearn.utils import shuffle\n",
    "\n",
    "df_shuffled = shuffle(df_dummies, random_state=42)"
   ]
  },
  {
   "cell_type": "markdown",
   "metadata": {},
   "source": [
    "7. แบ่งข้อมูลออกเป็นฟีเจอร์ $X$ และตัวแปรตาม $y$"
   ]
  },
  {
   "cell_type": "code",
   "execution_count": 27,
   "metadata": {},
   "outputs": [],
   "source": [
    "DV = 'Temperature_c'\n",
    "\n",
    "X = df_shuffled.drop(DV, axis=1)\n",
    "y = df_shuffled[DV]"
   ]
  },
  {
   "cell_type": "markdown",
   "metadata": {},
   "source": [
    "8. แบ่ง $X$ และ $y$ ออกเป็น ชุดข้อมูลฝึกฝน และุดข้อมูลทดสอบ"
   ]
  },
  {
   "cell_type": "code",
   "execution_count": 28,
   "metadata": {},
   "outputs": [],
   "source": [
    "from sklearn.model_selection import train_test_split\n",
    "\n",
    "X_train, X_test, y_train, y_test = train_test_split(X, y, \n",
    "                                        test_size=0.33, random_state=42)"
   ]
  },
  {
   "cell_type": "code",
   "execution_count": 29,
   "metadata": {},
   "outputs": [
    {
     "data": {
      "text/html": [
       "<div>\n",
       "<style scoped>\n",
       "    .dataframe tbody tr th:only-of-type {\n",
       "        vertical-align: middle;\n",
       "    }\n",
       "\n",
       "    .dataframe tbody tr th {\n",
       "        vertical-align: top;\n",
       "    }\n",
       "\n",
       "    .dataframe thead th {\n",
       "        text-align: right;\n",
       "    }\n",
       "</style>\n",
       "<table border=\"1\" class=\"dataframe\">\n",
       "  <thead>\n",
       "    <tr style=\"text-align: right;\">\n",
       "      <th></th>\n",
       "      <th>Humidity</th>\n",
       "      <th>Wind_Speed_kmh</th>\n",
       "      <th>Wind_Bearing_degrees</th>\n",
       "      <th>Visibility_km</th>\n",
       "      <th>Pressure_millibars</th>\n",
       "      <th>Rain</th>\n",
       "      <th>Description_Normal</th>\n",
       "      <th>Description_Warm</th>\n",
       "    </tr>\n",
       "  </thead>\n",
       "  <tbody>\n",
       "    <tr>\n",
       "      <th>5757</th>\n",
       "      <td>0.76</td>\n",
       "      <td>8.4525</td>\n",
       "      <td>38</td>\n",
       "      <td>14.9569</td>\n",
       "      <td>1028.63</td>\n",
       "      <td>1</td>\n",
       "      <td>1</td>\n",
       "      <td>0</td>\n",
       "    </tr>\n",
       "    <tr>\n",
       "      <th>7510</th>\n",
       "      <td>0.85</td>\n",
       "      <td>12.8800</td>\n",
       "      <td>150</td>\n",
       "      <td>8.0500</td>\n",
       "      <td>1021.90</td>\n",
       "      <td>0</td>\n",
       "      <td>0</td>\n",
       "      <td>0</td>\n",
       "    </tr>\n",
       "  </tbody>\n",
       "</table>\n",
       "</div>"
      ],
      "text/plain": [
       "      Humidity  Wind_Speed_kmh  Wind_Bearing_degrees  Visibility_km  \\\n",
       "5757      0.76          8.4525                    38        14.9569   \n",
       "7510      0.85         12.8800                   150         8.0500   \n",
       "\n",
       "      Pressure_millibars  Rain  Description_Normal  Description_Warm  \n",
       "5757             1028.63     1                   1                 0  \n",
       "7510             1021.90     0                   0                 0  "
      ]
     },
     "execution_count": 29,
     "metadata": {},
     "output_type": "execute_result"
    }
   ],
   "source": [
    "X_train.head(2)"
   ]
  },
  {
   "cell_type": "code",
   "execution_count": 31,
   "metadata": {},
   "outputs": [
    {
     "data": {
      "text/plain": [
       "5757    13.577778\n",
       "7510     0.000000\n",
       "Name: Temperature_c, dtype: float64"
      ]
     },
     "execution_count": 31,
     "metadata": {},
     "output_type": "execute_result"
    }
   ],
   "source": [
    "y_train.head(2)"
   ]
  },
  {
   "cell_type": "markdown",
   "metadata": {},
   "source": [
    "### ฟิตโมเดล Simple Linear Regression กับชุดข้อมูลฝึกฝน\n",
    "\n",
    "โมเดล Simple Linear Regression เป็นโมเดลที่สร้างความสัมพันธ์ระหว่าง ฟีเจอร์หนึ่งตัว กับ ค่าผลลัพธ์แบบต่อเนื่อง (continuous outcome variable) โดยใช้สมการ $y = \\alpha + \\beta x$ ในหัวข้อนี้ เราจะสร้าง Simple Linear Regression Model โดยใช้ scikit-learn"
   ]
  },
  {
   "cell_type": "markdown",
   "metadata": {},
   "source": [
    "1. สร้างอ็อบเจ็กต์ `LinearRegression` "
   ]
  },
  {
   "cell_type": "code",
   "execution_count": 32,
   "metadata": {},
   "outputs": [],
   "source": [
    "from sklearn.linear_model import LinearRegression\n",
    "\n",
    "model = LinearRegression()"
   ]
  },
  {
   "cell_type": "markdown",
   "metadata": {},
   "source": [
    "2. ฟิตโมเดลกับฟีเจอร์ Humidity"
   ]
  },
  {
   "cell_type": "code",
   "execution_count": 33,
   "metadata": {},
   "outputs": [
    {
     "data": {
      "text/plain": [
       "LinearRegression(copy_X=True, fit_intercept=True, n_jobs=None,\n",
       "         normalize=False)"
      ]
     },
     "execution_count": 33,
     "metadata": {},
     "output_type": "execute_result"
    }
   ],
   "source": [
    "model.fit(X_train[['Humidity']], y_train)"
   ]
  },
  {
   "cell_type": "markdown",
   "metadata": {},
   "source": [
    "3. ดึงค่าจุดตัด (intercept) และค่าความชัน (coefficient) ของ regression model"
   ]
  },
  {
   "cell_type": "code",
   "execution_count": 34,
   "metadata": {},
   "outputs": [],
   "source": [
    "intercept = model.intercept_\n",
    "\n",
    "coefficient = model.coef_"
   ]
  },
  {
   "cell_type": "markdown",
   "metadata": {},
   "source": [
    "4. Simple Linear Regression Model ที่ได้จากการเรียนรู้คือ"
   ]
  },
  {
   "cell_type": "code",
   "execution_count": 37,
   "metadata": {},
   "outputs": [
    {
     "name": "stdout",
     "output_type": "stream",
     "text": [
      "Temperature = 34.50 + (-30.69) x Humidity\n"
     ]
    }
   ],
   "source": [
    "print('Temperature = {0:0.2f} + ({1:0.2f}) x Humidity'.format(\n",
    "                intercept, coefficient[0]))"
   ]
  },
  {
   "cell_type": "markdown",
   "metadata": {},
   "source": [
    "### ทำนายและประเมินประสิทธิภาพของ Simple Linear Regression Model"
   ]
  },
  {
   "cell_type": "code",
   "execution_count": 38,
   "metadata": {},
   "outputs": [
    {
     "name": "stdout",
     "output_type": "stream",
     "text": [
      "      Metric   Value\n",
      "0        MAE   6.052\n",
      "1        MSE  56.187\n",
      "2       RMSE   7.496\n",
      "3  R-Squared   0.389\n"
     ]
    }
   ],
   "source": [
    "predictions = model.predict(X_test[['Humidity']])\n",
    "\n",
    "from sklearn import metrics\n",
    "import numpy as np\n",
    "\n",
    "metrics_df = pd.DataFrame(\n",
    "            {'Metric': \n",
    "             ['MAE', 'MSE', 'RMSE', 'R-Squared'],\n",
    "             'Value':  \n",
    "             [metrics.mean_absolute_error(y_test, predictions),\n",
    "              metrics.mean_squared_error(y_test, predictions),\n",
    "              np.sqrt(metrics.mean_squared_error(y_test, predictions)),\n",
    "              metrics.explained_variance_score(y_test, predictions)]\n",
    "            }).round(3)\n",
    "\n",
    "print(metrics_df)"
   ]
  },
  {
   "cell_type": "markdown",
   "metadata": {},
   "source": [
    "* Mean Absolute Error (MAE): คือ ค่าเฉลี่ยของความต่าง (absolute difference) ระหว่างค่าที่ทำนายได้กับค่าจริง\n",
    "\n",
    "* Mean Squared Error (MSE): คือ ค่าเฉลี่ยของกำลังสองของความแตกต่างระหว่างค่าที่ทำนายได้กับค่าจริง\n",
    "\n",
    "* Root Mean Squred Error (RMSE): คือ รากที่สองของ MSE\n",
    "\n",
    "* R-Squared: เป็นค่าที่บอกถึงสัดส่วนของความแปรปรวนของตัวแปรตามซึ่งสามารถอธิบายได้โดยโมเดลนี้\n",
    "\n",
    "จากตัวอย่างข้างต้นจะพบว่า ค่าความชื้น หรือ Humidity สามารถอธิบายค่าอุณหภูมิหรือตัวแปรตามได้เพียง 38.9% ของค่าความแปรปรวนของอุณหภูมิ และความผิดพลาดของโมเดลจะมีค่าอยู่ภายในช่วง $\\pm\\ 6.052$"
   ]
  },
  {
   "cell_type": "markdown",
   "metadata": {},
   "source": [
    "### ทำความเข้าใจประสิทธิภาพของโมเดลโดยใช้ Data Visualization"
   ]
  },
  {
   "cell_type": "markdown",
   "metadata": {},
   "source": [
    "5. เราจะเริ่มจากการดูความสัมพันธ์ระหว่างคำทำนายที่ได้จากโมเดลและค่าเอาท์พุทจริง โดยการใช้ scatterplot"
   ]
  },
  {
   "cell_type": "code",
   "execution_count": 41,
   "metadata": {},
   "outputs": [
    {
     "data": {
      "image/png": "[encoded data removed]",
      "text/plain": [
       "<Figure size 432x288 with 1 Axes>"
      ]
     },
     "metadata": {
      "needs_background": "light"
     },
     "output_type": "display_data"
    }
   ],
   "source": [
    "import matplotlib.pyplot as plt\n",
    "%matplotlib inline\n",
    "\n",
    "from scipy.stats import pearsonr\n",
    "\n",
    "plt.scatter(y_test, predictions)\n",
    "plt.xlabel('Y Test (True Values)')\n",
    "plt.ylabel('Predicted Values')\n",
    "plt.title('Predicted vs. Actual Values (r={0:0.2f})'.format(\n",
    "                    pearsonr(y_test, predictions)[0], 2))\n",
    "plt.show()"
   ]
  },
  {
   "cell_type": "markdown",
   "metadata": {},
   "source": [
    "จากกราฟข้างต้นจะเห็นได้ว่า ค่า y_test และ predicted_value แปรผันตามกัน โดยมีค่า Pearson r value เท่ากับ 0.62 ซึ่งหมายความว่า y_test และ predicted_value มีความสัมพันธ์กันเชิงบวกแบบเชิงเส้นในระดับกลาง (moderate, positive linear correlation)"
   ]
  },
  {
   "cell_type": "markdown",
   "metadata": {},
   "source": [
    "6. โมเดลที่ฟิตกับชุดข้อมูลได้ดี จะมีการกระจายของค่าความแตกต่าง (residuals) เป็นแบบปกติ"
   ]
  },
  {
   "cell_type": "code",
   "execution_count": 42,
   "metadata": {},
   "outputs": [
    {
     "data": {
      "image/png": "[encoded data removed]",
      "text/plain": [
       "<Figure size 432x288 with 1 Axes>"
      ]
     },
     "metadata": {
      "needs_background": "light"
     },
     "output_type": "display_data"
    }
   ],
   "source": [
    "import seaborn as sns\n",
    "from scipy.stats import shapiro\n",
    "\n",
    "sns.distplot((y_test - predictions), bins=50)\n",
    "plt.xlabel('Residuals')\n",
    "plt.ylabel('Density')\n",
    "plt.title('Histogram of Residuals (Shapiro W p-value = {0:0.3f})'.format(\n",
    "            shapiro(y_test - predictions)[1]))\n",
    "\n",
    "plt.show()"
   ]
  },
  {
   "cell_type": "markdown",
   "metadata": {},
   "source": [
    "จากภาพฮิสโตแกรม จะเห็นได้ว่า Residuals มีการกระจายเบี่ยงไปทางขวา (negatively skewed) และมีค่า Shapiro W p-value เท่ากับศูนย์ หมายความว่าการกระจายข้อมูลนี้ไม่ใช่แบบปกติ (not normal distribution) ดังนั้นโมเดลนี้จึงยังไม่สามารถฟิตกับชุดข้อมูลได้ดีพอ เราจึงจำเป็นต้องพัฒนาโมเดลให้ดียิ่งขึ้นได้"
   ]
  },
  {
   "cell_type": "markdown",
   "metadata": {},
   "source": [
    "### Multiple Linear Regression\n",
    "\n",
    "โมเดล Multiple Linear Regression เป็นโมเดลที่แสดงความสัมพันธ์ระหว่างฟีเจอร์ตั้งแต่สองตัวขึ้นไป กับ ค่าผลลัพธ์แบบต่อเนื่อง (continuous outcome variable) โดยใช้สมการในรูปแบบ $y = \\alpha + \\beta_1 x_i,1 + \\beta_2 x_i,2 + ... + \\beta_p x_i,p$\n",
    "\n",
    "เราจะใช้ scikit-learn สร้าง Multiple Linear Regression Model"
   ]
  },
  {
   "cell_type": "code",
   "execution_count": 44,
   "metadata": {},
   "outputs": [],
   "source": [
    "# Construct a model\n",
    "\n",
    "from sklearn.linear_model import LinearRegression\n",
    "\n",
    "model = LinearRegression()"
   ]
  },
  {
   "cell_type": "code",
   "execution_count": 45,
   "metadata": {},
   "outputs": [
    {
     "data": {
      "text/plain": [
       "LinearRegression(copy_X=True, fit_intercept=True, n_jobs=None,\n",
       "         normalize=False)"
      ]
     },
     "execution_count": 45,
     "metadata": {},
     "output_type": "execute_result"
    }
   ],
   "source": [
    "# Fit the Model\n",
    "\n",
    "model.fit(X_train, y_train)"
   ]
  },
  {
   "cell_type": "code",
   "execution_count": 46,
   "metadata": {},
   "outputs": [
    {
     "name": "stdout",
     "output_type": "stream",
     "text": [
      "Temperature = 3.54 + (-7.93 x Humidity) + (-0.07 x Wind Speed) + (0.00 x Wind Bearing Degrees) + (0.06 x Visibility) + (0.00 x Pressure) + (5.61 x Rain) + (8.54 x Normal Weather) + (19.10 x Warm Weather)\n"
     ]
    }
   ],
   "source": [
    "# Extract intercept, and coefficients\n",
    "\n",
    "intercept = model.intercept_\n",
    "coefficients = model.coef_\n",
    "\n",
    "print('Temperature = {0:0.2f} + ({1:0.2f} x Humidity) + ({2:0.2f} x Wind Speed) + ({3:0.2f} x Wind Bearing Degrees) + ({4:0.2f} x Visibility) + ({5:0.2f} x Pressure) + ({6:0.2f} x Rain) + ({7:0.2f} x Normal Weather) + ({8:0.2f} x Warm Weather)'.\n",
    "          format(intercept, \n",
    "          coefficients[0],\n",
    "          coefficients[1],                 \n",
    "          coefficients[2],\n",
    "          coefficients[3],\n",
    "          coefficients[4],                 \n",
    "          coefficients[5],\n",
    "          coefficients[6],\n",
    "          coefficients[7]))"
   ]
  },
  {
   "cell_type": "code",
   "execution_count": 48,
   "metadata": {},
   "outputs": [
    {
     "name": "stdout",
     "output_type": "stream",
     "text": [
      "      Metric   Value\n",
      "0        MAE   2.861\n",
      "1        MSE  12.317\n",
      "2       RMSE   3.510\n",
      "3  R-Squared   0.866\n"
     ]
    }
   ],
   "source": [
    "# predict and evaluate\n",
    "predictions = model.predict(X_test)\n",
    "\n",
    "from sklearn import metrics\n",
    "import numpy as np\n",
    "\n",
    "metrics_df = pd.DataFrame(\n",
    "            {'Metric': \n",
    "             ['MAE', 'MSE', 'RMSE', 'R-Squared'],\n",
    "             'Value':  \n",
    "             [metrics.mean_absolute_error(y_test, predictions),\n",
    "              metrics.mean_squared_error(y_test, predictions),\n",
    "              np.sqrt(metrics.mean_squared_error(y_test, predictions)),\n",
    "              metrics.explained_variance_score(y_test, predictions)]\n",
    "            }).round(3)\n",
    "\n",
    "print(metrics_df)"
   ]
  }
 ],
 "metadata": {
  "kernelspec": {
   "display_name": "Python 3",
   "language": "python",
   "name": "python3"
  },
  "language_info": {
   "codemirror_mode": {
    "name": "ipython",
    "version": 3
   },
   "file_extension": ".py",
   "mimetype": "text/x-python",
   "name": "python",
   "nbconvert_exporter": "python",
   "pygments_lexer": "ipython3",
   "version": "3.7.3"
  }
 },
 "nbformat": 4,
 "nbformat_minor": 2
}
