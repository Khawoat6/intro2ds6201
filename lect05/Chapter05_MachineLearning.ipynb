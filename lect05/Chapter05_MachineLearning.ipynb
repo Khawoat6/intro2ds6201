{
 "cells": [
  {
   "cell_type": "markdown",
   "metadata": {},
   "source": [
    "### รูปตัวอย่างแสดงโมเดลที่ Overfit และ Underfit กับข้อมูล"
   ]
  },
  {
   "cell_type": "code",
   "execution_count": 4,
   "metadata": {},
   "outputs": [],
   "source": [
    "import matplotlib.pyplot as plt\n",
    "%matplotlib inline\n",
    "import numpy as np\n",
    "import warnings"
   ]
  },
  {
   "cell_type": "code",
   "execution_count": 6,
   "metadata": {},
   "outputs": [],
   "source": [
    "# ข้อมูลทดสอบ\n",
    "x = np.array([0.0, 1.0, 2.0, 3.0, 4.0, 5.0])\n",
    "y = np.array([0.0, 0.8, 0.9, 0.1, -0.8, -1.0])"
   ]
  },
  {
   "cell_type": "code",
   "execution_count": 7,
   "metadata": {},
   "outputs": [],
   "source": [
    "# Polynomial Models at different degrees\n",
    "p3 = np.poly1d(np.polyfit(x, y, 3))\n",
    "p2 = np.poly1d(np.polyfit(x, y, 2))\n",
    "p1 = np.poly1d(np.polyfit(x, y, 1))\n",
    "p0 = np.poly1d(np.polyfit(x, y, 0))\n",
    "\n",
    "with warnings.catch_warnings():\n",
    "    warnings.simplefilter('ignore', np.RankWarning)\n",
    "    p30 = np.poly1d(np.polyfit(x, y, 30))"
   ]
  },
  {
   "cell_type": "code",
   "execution_count": 9,
   "metadata": {},
   "outputs": [
    {
     "data": {
      "image/png": "[encoded data removed]",
      "text/plain": [
       "<Figure size 432x288 with 1 Axes>"
      ]
     },
     "metadata": {
      "needs_background": "light"
     },
     "output_type": "display_data"
    }
   ],
   "source": [
    "# พล็อตกราฟสำหรับเปรียบเทียบ underfit, overfit\n",
    "xp = np.linspace(-2, 6, 100)\n",
    "_ = plt.plot(x, y, '.',\n",
    "             xp, p1(xp), '-',\n",
    "             xp, p2(xp),  '-', \n",
    "             xp, p30(xp), '--', \n",
    "             markersize=16)\n",
    "plt.ylim(-2, 2)\n",
    "plt.legend(labels=['data points', 'degree 1', 'degree 2', 'degree 30'])\n",
    "plt.savefig('overfit-underfit.png')"
   ]
  },
  {
   "cell_type": "markdown",
   "metadata": {},
   "source": [
    "### การแบ่งชุดข้อมูลออกเป็น training และ testing\n",
    "\n",
    "เราสามารถตรวจสอบและป้องกัน overfit ได้โดยการแบ่งชุดข้อมูลออกเป็น training และ testing ดังตัวอย่างโปรแกรมต่อไปนี้"
   ]
  },
  {
   "cell_type": "code",
   "execution_count": 20,
   "metadata": {},
   "outputs": [],
   "source": [
    "import random\n",
    "from typing import TypeVar, List, Tuple\n",
    "\n",
    "X = TypeVar('X') \n",
    "Y = TypeVar('Y')\n",
    "\n",
    "def split_data(data: List[X], prob: float) -> Tuple[List[X], List[X]]:\n",
    "    \"\"\"Split data into fractions [prob, 1-prob]\"\"\"\n",
    "    data = data[:]\n",
    "    random.shuffle(data)\n",
    "    cut = int(len(data) * prob)\n",
    "    return data[:cut], data[cut:]\n",
    "\n",
    "def train_test_split(xs: List[X],                     \n",
    "                     ys: List[Y],                     \n",
    "                     test_pct: float) -> Tuple[List[X], List[X], \n",
    "                                               List[Y], List[Y]]:\n",
    "    idxs = [i for i in range(len(xs))]\n",
    "    train_idxs, test_idxs = split_data(idxs, 1-test_pct)\n",
    "    \n",
    "    return ([xs[i] for i in train_idxs],\n",
    "            [xs[i] for i in test_idxs],\n",
    "            [ys[i] for i in train_idxs],\n",
    "            [ys[i] for i in test_idxs])\n",
    "\n",
    "xs = [x for x in range(1000)]\n",
    "ys = [2 * x for x in xs]\n",
    "x_train, x_test, y_train, y_test = train_test_split(xs, ys, 0.25)\n",
    "\n",
    "assert len(x_train) == len(y_train) == 750\n",
    "assert len(x_test) == len(y_test) == 250\n",
    "assert all(y == 2 * x for x, y in zip(x_train, y_train))\n",
    "assert all(y == 2 * x for x, y in zip(x_test, y_test))"
   ]
  },
  {
   "cell_type": "markdown",
   "metadata": {},
   "source": [
    "### การประเมินประสิทธิภาพของโมเดล (ความถูกต้อง)\n",
    "ทำได้โดยการคำนวณค่า accuracy, precision, recall, f1 score"
   ]
  },
  {
   "cell_type": "code",
   "execution_count": 25,
   "metadata": {},
   "outputs": [],
   "source": [
    "def accuracy(true_positive: int, false_positive: int,\n",
    "             false_negative: int, true_negative: int) -> float:\n",
    "    correct = true_positive + true_negative\n",
    "    total = true_positive + false_positive + false_negative + true_negative\n",
    "    return correct / total\n",
    "\n",
    "assert accuracy(85, 20, 15, 880) == (85+880) / 1000"
   ]
  },
  {
   "cell_type": "code",
   "execution_count": 26,
   "metadata": {},
   "outputs": [],
   "source": [
    "def precision(true_positive: int, false_positive: int,\n",
    "             false_negative: int, true_negative: int) -> float:\n",
    "    return true_positive / (true_positive + false_positive)\n",
    "\n",
    "assert precision(85, 20, 15, 880) == 85/(85+20)"
   ]
  },
  {
   "cell_type": "code",
   "execution_count": 27,
   "metadata": {},
   "outputs": [],
   "source": [
    "def recall(true_positive: int, false_positive: int,\n",
    "             false_negative: int, true_negative: int) -> float:\n",
    "    return true_positive / (true_positive + false_negative)\n",
    "\n",
    "assert recall(85, 20, 15, 880) == 85 / (85 + 15)"
   ]
  },
  {
   "cell_type": "code",
   "execution_count": 24,
   "metadata": {},
   "outputs": [],
   "source": [
    "def f1_score(true_positive: int, false_positive: int,\n",
    "             false_negative: int, true_negative: int) -> float:\n",
    "    P = precision(true_positive, false_positive, false_negative, true_negative)\n",
    "    R = recall(true_positive, false_positive, false_negative, true_negative)\n",
    "    \n",
    "    return 2 * P * R / (P + R)"
   ]
  }
 ],
 "metadata": {
  "kernelspec": {
   "display_name": "Python 3",
   "language": "python",
   "name": "python3"
  },
  "language_info": {
   "codemirror_mode": {
    "name": "ipython",
    "version": 3
   },
   "file_extension": ".py",
   "mimetype": "text/x-python",
   "name": "python",
   "nbconvert_exporter": "python",
   "pygments_lexer": "ipython3",
   "version": "3.7.3"
  }
 },
 "nbformat": 4,
 "nbformat_minor": 2
}
